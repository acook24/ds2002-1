{
 "cells": [
  {
   "cell_type": "markdown",
   "id": "5738ea3e",
   "metadata": {},
   "source": [
    "## Using Python to Query MySQL\n",
    "This notebook demonstrates using a couple of different database connectivity libraries to connect to and query a MySQL database.\n",
    "- **PyMySQL** library\n",
    "- MySQL's Native **mysql.connector** library\n",
    "- **SqlAlchemy** library\n",
    "\n",
    "### 1.0. Prerequisites\n",
    "\n",
    "#### 1.1. First, you must **install** the libaries into your *python* environment by executing the following commands in a *Terminal window*\n",
    "- \\$ python3 -m pip install PyMySQL\n",
    "- \\$ python3 -m pip install mysql-connector-python\n",
    "- \\$ python3 -m pip install sqlalchemy\n",
    "\n",
    "#### 1.2. Next, as with all Jupyter Notebooks, you need to **Import** the libaries that you'll be working with in the notebook,"
   ]
  },
  {
   "cell_type": "code",
   "execution_count": 12,
   "id": "c1c46e6b",
   "metadata": {},
   "outputs": [],
   "source": [
    "import os\n",
    "import pymysql\n",
    "import mysql.connector.python\n",
    "from sqlalchemy import create_engine\n",
    "\n",
    "import pandas as pd\n",
    "import matplotlib.pyplot as plt\n",
    "import warnings\n",
    "warnings.filterwarnings('ignore')"
   ]
  },
  {
   "cell_type": "markdown",
   "id": "4128c8b5",
   "metadata": {},
   "source": [
    "#### 1.3. And then, Assign Connection Variables for the MySQL Server & Database with which You'll be Working "
   ]
  },
  {
   "cell_type": "code",
   "execution_count": 13,
   "id": "e45f728e",
   "metadata": {},
   "outputs": [],
   "source": [
    "host_name = \"localhost\"\n",
    "host_ip = \"127.0.0.1\"\n",
    "port = \"3306\"\n",
    "\n",
    "user_id = \"root\"\n",
    "pwd = \"Passw0rd123\"\n",
    "db_name = \"northwind\""
   ]
  },
  {
   "cell_type": "markdown",
   "id": "972fedd1",
   "metadata": {},
   "source": [
    "### 2.0. Using the PyMySQL Library\n",
    "#### 2.1. Using a Cursor to Iterate the Rows Returned"
   ]
  },
  {
   "cell_type": "code",
   "execution_count": 14,
   "id": "8c8afe4f",
   "metadata": {},
   "outputs": [
    {
     "name": "stdout",
     "output_type": "stream",
     "text": [
      "('4', 1, 'NWTB-1', 'Northwind Traders Chai', None, Decimal('13.5000'), Decimal('18.0000'), 10, 40, '10 boxes x 20 bags', 0, 10, 'Beverages', b'')\n",
      "('10', 3, 'NWTCO-3', 'Northwind Traders Syrup', None, Decimal('7.5000'), Decimal('10.0000'), 25, 100, '12 - 550 ml bottles', 0, 25, 'Condiments', b'')\n",
      "('10', 4, 'NWTCO-4', 'Northwind Traders Cajun Seasoning', None, Decimal('16.5000'), Decimal('22.0000'), 10, 40, '48 - 6 oz jars', 0, 10, 'Condiments', b'')\n",
      "('10', 5, 'NWTO-5', 'Northwind Traders Olive Oil', None, Decimal('16.0125'), Decimal('21.3500'), 10, 40, '36 boxes', 0, 10, 'Oil', b'')\n",
      "('2;6', 6, 'NWTJP-6', 'Northwind Traders Boysenberry Spread', None, Decimal('18.7500'), Decimal('25.0000'), 25, 100, '12 - 8 oz jars', 0, 25, 'Jams, Preserves', b'')\n"
     ]
    }
   ],
   "source": [
    "conn = pymysql.connect(host=host_name, user=user_id, password=pwd, database=db_name)\n",
    "cursor = conn.cursor()\n",
    "\n",
    "try:\n",
    "    cursor.execute('SELECT * FROM products;')\n",
    "    \n",
    "    for row in cursor.fetchmany(size=5):\n",
    "        print(row)\n",
    "        \n",
    "    cursor.close()\n",
    "    \n",
    "except:\n",
    "    print (\"Error: unable to fetch data\")\n",
    "    \n",
    "conn.close()"
   ]
  },
  {
   "cell_type": "code",
   "execution_count": 15,
   "id": "2574c8ae",
   "metadata": {},
   "outputs": [
    {
     "name": "stdout",
     "output_type": "stream",
     "text": [
      "{'supplier_ids': '2;6', 'id': 20, 'product_code': 'NWTJP-6', 'product_name': 'Northwind Traders Marmalade', 'description': None, 'standard_cost': Decimal('60.7500'), 'list_price': Decimal('81.0000'), 'reorder_level': 10, 'target_level': 40, 'quantity_per_unit': '30 gift boxes', 'discontinued': 0, 'minimum_reorder_quantity': 10, 'category': 'Jams, Preserves', 'attachments': b''}\n",
      "{'supplier_ids': '2', 'id': 51, 'product_code': 'NWTDFN-51', 'product_name': 'Northwind Traders Dried Apples', 'description': None, 'standard_cost': Decimal('39.7500'), 'list_price': Decimal('53.0000'), 'reorder_level': 10, 'target_level': 40, 'quantity_per_unit': '50 - 300 g pkgs.', 'discontinued': 0, 'minimum_reorder_quantity': 10, 'category': 'Dried Fruit & Nuts', 'attachments': b''}\n",
      "{'supplier_ids': '3;4', 'id': 43, 'product_code': 'NWTB-43', 'product_name': 'Northwind Traders Coffee', 'description': None, 'standard_cost': Decimal('34.5000'), 'list_price': Decimal('46.0000'), 'reorder_level': 25, 'target_level': 100, 'quantity_per_unit': '16 - 500 g tins', 'discontinued': 0, 'minimum_reorder_quantity': 25, 'category': 'Beverages', 'attachments': b''}\n",
      "{'supplier_ids': '8', 'id': 8, 'product_code': 'NWTS-8', 'product_name': 'Northwind Traders Curry Sauce', 'description': None, 'standard_cost': Decimal('30.0000'), 'list_price': Decimal('40.0000'), 'reorder_level': 10, 'target_level': 40, 'quantity_per_unit': '12 - 12 oz jars', 'discontinued': 0, 'minimum_reorder_quantity': 10, 'category': 'Sauces', 'attachments': b''}\n",
      "{'supplier_ids': '6', 'id': 17, 'product_code': 'NWTCFV-17', 'product_name': 'Northwind Traders Fruit Cocktail', 'description': None, 'standard_cost': Decimal('29.2500'), 'list_price': Decimal('39.0000'), 'reorder_level': 10, 'target_level': 40, 'quantity_per_unit': '15.25 OZ', 'discontinued': 0, 'minimum_reorder_quantity': 10, 'category': 'Canned Fruit & Vegetables', 'attachments': b''}\n"
     ]
    }
   ],
   "source": [
    "conn = pymysql.connect(host=host_name, user=user_id, password=pwd, database=db_name)\n",
    "cursor = conn.cursor(pymysql.cursors.DictCursor)\n",
    "\n",
    "try:\n",
    "    cursor.execute('SELECT * FROM products ORDER BY list_price DESC LIMIT 5;')\n",
    "    \n",
    "    for row in cursor.fetchall():\n",
    "        print(row)\n",
    "        \n",
    "    cursor.close()\n",
    "    \n",
    "except:\n",
    "    print (\"Error: unable to fetch data\")\n",
    "    \n",
    "conn.close()"
   ]
  },
  {
   "cell_type": "markdown",
   "id": "4de09d0c",
   "metadata": {},
   "source": [
    "#### 2.2. Using the Pandas read_sql() Method to Return a DataFrame"
   ]
  },
  {
   "cell_type": "code",
   "execution_count": 16,
   "id": "94065963",
   "metadata": {},
   "outputs": [
    {
     "data": {
      "text/html": [
       "<div>\n",
       "<style scoped>\n",
       "    .dataframe tbody tr th:only-of-type {\n",
       "        vertical-align: middle;\n",
       "    }\n",
       "\n",
       "    .dataframe tbody tr th {\n",
       "        vertical-align: top;\n",
       "    }\n",
       "\n",
       "    .dataframe thead th {\n",
       "        text-align: right;\n",
       "    }\n",
       "</style>\n",
       "<table border=\"1\" class=\"dataframe\">\n",
       "  <thead>\n",
       "    <tr style=\"text-align: right;\">\n",
       "      <th></th>\n",
       "      <th>supplier_ids</th>\n",
       "      <th>id</th>\n",
       "      <th>product_code</th>\n",
       "      <th>product_name</th>\n",
       "      <th>description</th>\n",
       "      <th>standard_cost</th>\n",
       "      <th>list_price</th>\n",
       "      <th>reorder_level</th>\n",
       "      <th>target_level</th>\n",
       "      <th>quantity_per_unit</th>\n",
       "      <th>discontinued</th>\n",
       "      <th>minimum_reorder_quantity</th>\n",
       "      <th>category</th>\n",
       "      <th>attachments</th>\n",
       "    </tr>\n",
       "  </thead>\n",
       "  <tbody>\n",
       "    <tr>\n",
       "      <th>0</th>\n",
       "      <td>2;6</td>\n",
       "      <td>20</td>\n",
       "      <td>NWTJP-6</td>\n",
       "      <td>Northwind Traders Marmalade</td>\n",
       "      <td>None</td>\n",
       "      <td>60.75</td>\n",
       "      <td>81.0</td>\n",
       "      <td>10</td>\n",
       "      <td>40</td>\n",
       "      <td>30 gift boxes</td>\n",
       "      <td>0</td>\n",
       "      <td>10.0</td>\n",
       "      <td>Jams, Preserves</td>\n",
       "      <td>b''</td>\n",
       "    </tr>\n",
       "    <tr>\n",
       "      <th>1</th>\n",
       "      <td>2</td>\n",
       "      <td>51</td>\n",
       "      <td>NWTDFN-51</td>\n",
       "      <td>Northwind Traders Dried Apples</td>\n",
       "      <td>None</td>\n",
       "      <td>39.75</td>\n",
       "      <td>53.0</td>\n",
       "      <td>10</td>\n",
       "      <td>40</td>\n",
       "      <td>50 - 300 g pkgs.</td>\n",
       "      <td>0</td>\n",
       "      <td>10.0</td>\n",
       "      <td>Dried Fruit &amp; Nuts</td>\n",
       "      <td>b''</td>\n",
       "    </tr>\n",
       "    <tr>\n",
       "      <th>2</th>\n",
       "      <td>3;4</td>\n",
       "      <td>43</td>\n",
       "      <td>NWTB-43</td>\n",
       "      <td>Northwind Traders Coffee</td>\n",
       "      <td>None</td>\n",
       "      <td>34.50</td>\n",
       "      <td>46.0</td>\n",
       "      <td>25</td>\n",
       "      <td>100</td>\n",
       "      <td>16 - 500 g tins</td>\n",
       "      <td>0</td>\n",
       "      <td>25.0</td>\n",
       "      <td>Beverages</td>\n",
       "      <td>b''</td>\n",
       "    </tr>\n",
       "    <tr>\n",
       "      <th>3</th>\n",
       "      <td>8</td>\n",
       "      <td>8</td>\n",
       "      <td>NWTS-8</td>\n",
       "      <td>Northwind Traders Curry Sauce</td>\n",
       "      <td>None</td>\n",
       "      <td>30.00</td>\n",
       "      <td>40.0</td>\n",
       "      <td>10</td>\n",
       "      <td>40</td>\n",
       "      <td>12 - 12 oz jars</td>\n",
       "      <td>0</td>\n",
       "      <td>10.0</td>\n",
       "      <td>Sauces</td>\n",
       "      <td>b''</td>\n",
       "    </tr>\n",
       "    <tr>\n",
       "      <th>4</th>\n",
       "      <td>6</td>\n",
       "      <td>17</td>\n",
       "      <td>NWTCFV-17</td>\n",
       "      <td>Northwind Traders Fruit Cocktail</td>\n",
       "      <td>None</td>\n",
       "      <td>29.25</td>\n",
       "      <td>39.0</td>\n",
       "      <td>10</td>\n",
       "      <td>40</td>\n",
       "      <td>15.25 OZ</td>\n",
       "      <td>0</td>\n",
       "      <td>10.0</td>\n",
       "      <td>Canned Fruit &amp; Vegetables</td>\n",
       "      <td>b''</td>\n",
       "    </tr>\n",
       "  </tbody>\n",
       "</table>\n",
       "</div>"
      ],
      "text/plain": [
       "  supplier_ids  id product_code                      product_name description  \\\n",
       "0          2;6  20      NWTJP-6       Northwind Traders Marmalade        None   \n",
       "1            2  51    NWTDFN-51    Northwind Traders Dried Apples        None   \n",
       "2          3;4  43      NWTB-43          Northwind Traders Coffee        None   \n",
       "3            8   8       NWTS-8     Northwind Traders Curry Sauce        None   \n",
       "4            6  17    NWTCFV-17  Northwind Traders Fruit Cocktail        None   \n",
       "\n",
       "   standard_cost  list_price  reorder_level  target_level quantity_per_unit  \\\n",
       "0          60.75        81.0             10            40     30 gift boxes   \n",
       "1          39.75        53.0             10            40  50 - 300 g pkgs.   \n",
       "2          34.50        46.0             25           100   16 - 500 g tins   \n",
       "3          30.00        40.0             10            40   12 - 12 oz jars   \n",
       "4          29.25        39.0             10            40          15.25 OZ   \n",
       "\n",
       "   discontinued  minimum_reorder_quantity                   category  \\\n",
       "0             0                      10.0            Jams, Preserves   \n",
       "1             0                      10.0         Dried Fruit & Nuts   \n",
       "2             0                      25.0                  Beverages   \n",
       "3             0                      10.0                     Sauces   \n",
       "4             0                      10.0  Canned Fruit & Vegetables   \n",
       "\n",
       "  attachments  \n",
       "0         b''  \n",
       "1         b''  \n",
       "2         b''  \n",
       "3         b''  \n",
       "4         b''  "
      ]
     },
     "execution_count": 16,
     "metadata": {},
     "output_type": "execute_result"
    }
   ],
   "source": [
    "conn = pymysql.connect(host=host_name, user=user_id, password=pwd, database=db_name)\n",
    "\n",
    "df = pd.read_sql(\"SELECT * FROM products ORDER BY list_price DESC;\", conn)\n",
    "\n",
    "conn.close()\n",
    "df.head()"
   ]
  },
  {
   "cell_type": "markdown",
   "id": "54377f52",
   "metadata": {},
   "source": [
    "### 3.0. Using the MySQL Native Connection Library\n",
    "#### 3.1. Using a Cursor to Iterate the Rows Returned"
   ]
  },
  {
   "cell_type": "code",
   "execution_count": 19,
   "id": "fad4f7da",
   "metadata": {},
   "outputs": [],
   "source": [
    "lbound = 15.00\n",
    "ubound = 20.00\n",
    "\n",
    "sql_query = \"\"\"\n",
    "    SELECT id AS product_id\n",
    "        , product_name\n",
    "        , list_price\n",
    "    FROM northwind.products\n",
    "    WHERE list_price BETWEEN %s AND %s\n",
    "    ORDER BY list_price DESC;\n",
    "\"\"\""
   ]
  },
  {
   "cell_type": "code",
   "execution_count": 21,
   "id": "72b02b43",
   "metadata": {},
   "outputs": [
    {
     "ename": "NotSupportedError",
     "evalue": "Authentication plugin 'caching_sha2_password' is not supported",
     "output_type": "error",
     "traceback": [
      "\u001b[0;31m---------------------------------------------------------------------------\u001b[0m",
      "\u001b[0;31mNotSupportedError\u001b[0m                         Traceback (most recent call last)",
      "Input \u001b[0;32mIn [21]\u001b[0m, in \u001b[0;36m<cell line: 1>\u001b[0;34m()\u001b[0m\n\u001b[0;32m----> 1\u001b[0m conn \u001b[38;5;241m=\u001b[39m \u001b[43mmysql\u001b[49m\u001b[38;5;241;43m.\u001b[39;49m\u001b[43mconnector\u001b[49m\u001b[38;5;241;43m.\u001b[39;49m\u001b[43mconnect\u001b[49m\u001b[43m(\u001b[49m\u001b[43muser\u001b[49m\u001b[38;5;241;43m=\u001b[39;49m\u001b[43muser_id\u001b[49m\u001b[43m,\u001b[49m\u001b[43m \u001b[49m\u001b[43mpassword\u001b[49m\u001b[38;5;241;43m=\u001b[39;49m\u001b[43mpwd\u001b[49m\u001b[43m,\u001b[49m\n\u001b[1;32m      2\u001b[0m \u001b[43m                               \u001b[49m\u001b[43mhost\u001b[49m\u001b[38;5;241;43m=\u001b[39;49m\u001b[43mhost_ip\u001b[49m\u001b[43m,\u001b[49m\u001b[43m \u001b[49m\u001b[43mdatabase\u001b[49m\u001b[38;5;241;43m=\u001b[39;49m\u001b[43mdb_name\u001b[49m\u001b[43m,\u001b[49m\n\u001b[1;32m      3\u001b[0m \u001b[43m                               \u001b[49m\u001b[43mauth_plugin\u001b[49m\u001b[38;5;241;43m=\u001b[39;49m\u001b[38;5;124;43m'\u001b[39;49m\u001b[38;5;124;43mmysql_native_password\u001b[39;49m\u001b[38;5;124;43m'\u001b[39;49m\u001b[43m)\u001b[49m\n",
      "File \u001b[0;32m~/opt/anaconda3/lib/python3.9/site-packages/mysql/connector/__init__.py:179\u001b[0m, in \u001b[0;36mconnect\u001b[0;34m(*args, **kwargs)\u001b[0m\n\u001b[1;32m    177\u001b[0m     \u001b[38;5;28;01mreturn\u001b[39;00m CMySQLConnection(\u001b[38;5;241m*\u001b[39margs, \u001b[38;5;241m*\u001b[39m\u001b[38;5;241m*\u001b[39mkwargs)\n\u001b[1;32m    178\u001b[0m \u001b[38;5;28;01melse\u001b[39;00m:\n\u001b[0;32m--> 179\u001b[0m     \u001b[38;5;28;01mreturn\u001b[39;00m \u001b[43mMySQLConnection\u001b[49m\u001b[43m(\u001b[49m\u001b[38;5;241;43m*\u001b[39;49m\u001b[43margs\u001b[49m\u001b[43m,\u001b[49m\u001b[43m \u001b[49m\u001b[38;5;241;43m*\u001b[39;49m\u001b[38;5;241;43m*\u001b[39;49m\u001b[43mkwargs\u001b[49m\u001b[43m)\u001b[49m\n",
      "File \u001b[0;32m~/opt/anaconda3/lib/python3.9/site-packages/mysql/connector/connection.py:95\u001b[0m, in \u001b[0;36mMySQLConnection.__init__\u001b[0;34m(self, *args, **kwargs)\u001b[0m\n\u001b[1;32m     92\u001b[0m \u001b[38;5;28mself\u001b[39m\u001b[38;5;241m.\u001b[39m_pool_config_version \u001b[38;5;241m=\u001b[39m \u001b[38;5;28;01mNone\u001b[39;00m\n\u001b[1;32m     94\u001b[0m \u001b[38;5;28;01mif\u001b[39;00m \u001b[38;5;28mlen\u001b[39m(kwargs) \u001b[38;5;241m>\u001b[39m \u001b[38;5;241m0\u001b[39m:\n\u001b[0;32m---> 95\u001b[0m     \u001b[38;5;28;43mself\u001b[39;49m\u001b[38;5;241;43m.\u001b[39;49m\u001b[43mconnect\u001b[49m\u001b[43m(\u001b[49m\u001b[38;5;241;43m*\u001b[39;49m\u001b[38;5;241;43m*\u001b[39;49m\u001b[43mkwargs\u001b[49m\u001b[43m)\u001b[49m\n",
      "File \u001b[0;32m~/opt/anaconda3/lib/python3.9/site-packages/mysql/connector/abstracts.py:716\u001b[0m, in \u001b[0;36mMySQLConnectionAbstract.connect\u001b[0;34m(self, **kwargs)\u001b[0m\n\u001b[1;32m    713\u001b[0m     \u001b[38;5;28mself\u001b[39m\u001b[38;5;241m.\u001b[39mconfig(\u001b[38;5;241m*\u001b[39m\u001b[38;5;241m*\u001b[39mkwargs)\n\u001b[1;32m    715\u001b[0m \u001b[38;5;28mself\u001b[39m\u001b[38;5;241m.\u001b[39mdisconnect()\n\u001b[0;32m--> 716\u001b[0m \u001b[38;5;28;43mself\u001b[39;49m\u001b[38;5;241;43m.\u001b[39;49m\u001b[43m_open_connection\u001b[49m\u001b[43m(\u001b[49m\u001b[43m)\u001b[49m\n\u001b[1;32m    717\u001b[0m \u001b[38;5;28mself\u001b[39m\u001b[38;5;241m.\u001b[39m_post_connection()\n",
      "File \u001b[0;32m~/opt/anaconda3/lib/python3.9/site-packages/mysql/connector/connection.py:208\u001b[0m, in \u001b[0;36mMySQLConnection._open_connection\u001b[0;34m(self)\u001b[0m\n\u001b[1;32m    206\u001b[0m \u001b[38;5;28mself\u001b[39m\u001b[38;5;241m.\u001b[39m_socket\u001b[38;5;241m.\u001b[39mopen_connection()\n\u001b[1;32m    207\u001b[0m \u001b[38;5;28mself\u001b[39m\u001b[38;5;241m.\u001b[39m_do_handshake()\n\u001b[0;32m--> 208\u001b[0m \u001b[38;5;28;43mself\u001b[39;49m\u001b[38;5;241;43m.\u001b[39;49m\u001b[43m_do_auth\u001b[49m\u001b[43m(\u001b[49m\u001b[38;5;28;43mself\u001b[39;49m\u001b[38;5;241;43m.\u001b[39;49m\u001b[43m_user\u001b[49m\u001b[43m,\u001b[49m\u001b[43m \u001b[49m\u001b[38;5;28;43mself\u001b[39;49m\u001b[38;5;241;43m.\u001b[39;49m\u001b[43m_password\u001b[49m\u001b[43m,\u001b[49m\n\u001b[1;32m    209\u001b[0m \u001b[43m              \u001b[49m\u001b[38;5;28;43mself\u001b[39;49m\u001b[38;5;241;43m.\u001b[39;49m\u001b[43m_database\u001b[49m\u001b[43m,\u001b[49m\u001b[43m \u001b[49m\u001b[38;5;28;43mself\u001b[39;49m\u001b[38;5;241;43m.\u001b[39;49m\u001b[43m_client_flags\u001b[49m\u001b[43m,\u001b[49m\u001b[43m \u001b[49m\u001b[38;5;28;43mself\u001b[39;49m\u001b[38;5;241;43m.\u001b[39;49m\u001b[43m_charset_id\u001b[49m\u001b[43m,\u001b[49m\n\u001b[1;32m    210\u001b[0m \u001b[43m              \u001b[49m\u001b[38;5;28;43mself\u001b[39;49m\u001b[38;5;241;43m.\u001b[39;49m\u001b[43m_ssl\u001b[49m\u001b[43m)\u001b[49m\n\u001b[1;32m    211\u001b[0m \u001b[38;5;28mself\u001b[39m\u001b[38;5;241m.\u001b[39mset_converter_class(\u001b[38;5;28mself\u001b[39m\u001b[38;5;241m.\u001b[39m_converter_class)\n\u001b[1;32m    212\u001b[0m \u001b[38;5;28;01mif\u001b[39;00m \u001b[38;5;28mself\u001b[39m\u001b[38;5;241m.\u001b[39m_client_flags \u001b[38;5;241m&\u001b[39m ClientFlag\u001b[38;5;241m.\u001b[39mCOMPRESS:\n",
      "File \u001b[0;32m~/opt/anaconda3/lib/python3.9/site-packages/mysql/connector/connection.py:144\u001b[0m, in \u001b[0;36mMySQLConnection._do_auth\u001b[0;34m(self, username, password, database, client_flags, charset, ssl_options)\u001b[0m\n\u001b[1;32m    137\u001b[0m packet \u001b[38;5;241m=\u001b[39m \u001b[38;5;28mself\u001b[39m\u001b[38;5;241m.\u001b[39m_protocol\u001b[38;5;241m.\u001b[39mmake_auth(\n\u001b[1;32m    138\u001b[0m     handshake\u001b[38;5;241m=\u001b[39m\u001b[38;5;28mself\u001b[39m\u001b[38;5;241m.\u001b[39m_handshake,\n\u001b[1;32m    139\u001b[0m     username\u001b[38;5;241m=\u001b[39musername, password\u001b[38;5;241m=\u001b[39mpassword, database\u001b[38;5;241m=\u001b[39mdatabase,\n\u001b[1;32m    140\u001b[0m     charset\u001b[38;5;241m=\u001b[39mcharset, client_flags\u001b[38;5;241m=\u001b[39mclient_flags,\n\u001b[1;32m    141\u001b[0m     ssl_enabled\u001b[38;5;241m=\u001b[39m\u001b[38;5;28mself\u001b[39m\u001b[38;5;241m.\u001b[39m_ssl_active,\n\u001b[1;32m    142\u001b[0m     auth_plugin\u001b[38;5;241m=\u001b[39m\u001b[38;5;28mself\u001b[39m\u001b[38;5;241m.\u001b[39m_auth_plugin)\n\u001b[1;32m    143\u001b[0m \u001b[38;5;28mself\u001b[39m\u001b[38;5;241m.\u001b[39m_socket\u001b[38;5;241m.\u001b[39msend(packet)\n\u001b[0;32m--> 144\u001b[0m \u001b[38;5;28;43mself\u001b[39;49m\u001b[38;5;241;43m.\u001b[39;49m\u001b[43m_auth_switch_request\u001b[49m\u001b[43m(\u001b[49m\u001b[43musername\u001b[49m\u001b[43m,\u001b[49m\u001b[43m \u001b[49m\u001b[43mpassword\u001b[49m\u001b[43m)\u001b[49m\n\u001b[1;32m    146\u001b[0m \u001b[38;5;28;01mif\u001b[39;00m \u001b[38;5;129;01mnot\u001b[39;00m (client_flags \u001b[38;5;241m&\u001b[39m ClientFlag\u001b[38;5;241m.\u001b[39mCONNECT_WITH_DB) \u001b[38;5;129;01mand\u001b[39;00m database:\n\u001b[1;32m    147\u001b[0m     \u001b[38;5;28mself\u001b[39m\u001b[38;5;241m.\u001b[39mcmd_init_db(database)\n",
      "File \u001b[0;32m~/opt/anaconda3/lib/python3.9/site-packages/mysql/connector/connection.py:167\u001b[0m, in \u001b[0;36mMySQLConnection._auth_switch_request\u001b[0;34m(self, username, password)\u001b[0m\n\u001b[1;32m    163\u001b[0m \u001b[38;5;28;01melif\u001b[39;00m packet[\u001b[38;5;241m4\u001b[39m] \u001b[38;5;241m==\u001b[39m \u001b[38;5;241m254\u001b[39m:\n\u001b[1;32m    164\u001b[0m     \u001b[38;5;66;03m# AuthSwitchRequest\u001b[39;00m\n\u001b[1;32m    165\u001b[0m     (new_auth_plugin,\n\u001b[1;32m    166\u001b[0m      auth_data) \u001b[38;5;241m=\u001b[39m \u001b[38;5;28mself\u001b[39m\u001b[38;5;241m.\u001b[39m_protocol\u001b[38;5;241m.\u001b[39mparse_auth_switch_request(packet)\n\u001b[0;32m--> 167\u001b[0m     auth \u001b[38;5;241m=\u001b[39m \u001b[43mget_auth_plugin\u001b[49m\u001b[43m(\u001b[49m\u001b[43mnew_auth_plugin\u001b[49m\u001b[43m)\u001b[49m(\n\u001b[1;32m    168\u001b[0m         auth_data, password\u001b[38;5;241m=\u001b[39mpassword, ssl_enabled\u001b[38;5;241m=\u001b[39m\u001b[38;5;28mself\u001b[39m\u001b[38;5;241m.\u001b[39m_ssl_active)\n\u001b[1;32m    169\u001b[0m     response \u001b[38;5;241m=\u001b[39m auth\u001b[38;5;241m.\u001b[39mauth_response()\n\u001b[1;32m    170\u001b[0m     \u001b[38;5;28mself\u001b[39m\u001b[38;5;241m.\u001b[39m_socket\u001b[38;5;241m.\u001b[39msend(response)\n",
      "File \u001b[0;32m~/opt/anaconda3/lib/python3.9/site-packages/mysql/connector/authentication.py:190\u001b[0m, in \u001b[0;36mget_auth_plugin\u001b[0;34m(plugin_name)\u001b[0m\n\u001b[1;32m    187\u001b[0m     \u001b[38;5;28;01mif\u001b[39;00m authclass\u001b[38;5;241m.\u001b[39mplugin_name \u001b[38;5;241m==\u001b[39m plugin_name:\n\u001b[1;32m    188\u001b[0m         \u001b[38;5;28;01mreturn\u001b[39;00m authclass\n\u001b[0;32m--> 190\u001b[0m \u001b[38;5;28;01mraise\u001b[39;00m errors\u001b[38;5;241m.\u001b[39mNotSupportedError(\n\u001b[1;32m    191\u001b[0m     \u001b[38;5;124m\"\u001b[39m\u001b[38;5;124mAuthentication plugin \u001b[39m\u001b[38;5;124m'\u001b[39m\u001b[38;5;132;01m{0}\u001b[39;00m\u001b[38;5;124m'\u001b[39m\u001b[38;5;124m is not supported\u001b[39m\u001b[38;5;124m\"\u001b[39m\u001b[38;5;241m.\u001b[39mformat(plugin_name))\n",
      "\u001b[0;31mNotSupportedError\u001b[0m: Authentication plugin 'caching_sha2_password' is not supported"
     ]
    }
   ],
   "source": [
    "conn = mysql.connector.connect(user=user_id, password=pwd,\n",
    "                               host=host_ip, database=db_name,\n",
    "                               auth_plugin='mysql_native_password') #caching_sha2_password mysql_native_password"
   ]
  },
  {
   "cell_type": "code",
   "execution_count": null,
   "id": "06bece02",
   "metadata": {},
   "outputs": [],
   "source": [
    "cursor = conn.cursor()\n",
    "\n",
    "try:\n",
    "    cursor.execute(sql_query, (lbound, ubound))\n",
    "    \n",
    "    for (product_id, product_name, list_price) in cursor:\n",
    "        print(\"{}, {} was sold for {}\".format(product_id, product_name, list_price))\n",
    "        \n",
    "    cursor.close()\n",
    "    \n",
    "except:\n",
    "    print (\"Error: unable to fetch data\")   "
   ]
  },
  {
   "cell_type": "code",
   "execution_count": 5,
   "id": "a0fba4a6",
   "metadata": {},
   "outputs": [
    {
     "name": "stdout",
     "output_type": "stream",
     "text": [
      "Error: unable to fetch data\n"
     ]
    }
   ],
   "source": [
    "cursor = conn.cursor()\n",
    "\n",
    "try:\n",
    "    cursor.execute(sql_query, (lbound, ubound))\n",
    "    \n",
    "    row = cursor.fetchone() \n",
    "    while row:\n",
    "        print(row)\n",
    "        row = cursor.fetchone()\n",
    "        \n",
    "    cursor.close()\n",
    "    \n",
    "except:\n",
    "    print (\"Error: unable to fetch data\")"
   ]
  },
  {
   "cell_type": "code",
   "execution_count": 6,
   "id": "d2764e86",
   "metadata": {},
   "outputs": [
    {
     "ename": "Error",
     "evalue": "Already closed",
     "output_type": "error",
     "traceback": [
      "\u001b[0;31m---------------------------------------------------------------------------\u001b[0m",
      "\u001b[0;31mError\u001b[0m                                     Traceback (most recent call last)",
      "Input \u001b[0;32mIn [6]\u001b[0m, in \u001b[0;36m<cell line: 1>\u001b[0;34m()\u001b[0m\n\u001b[0;32m----> 1\u001b[0m \u001b[43mconn\u001b[49m\u001b[38;5;241;43m.\u001b[39;49m\u001b[43mclose\u001b[49m\u001b[43m(\u001b[49m\u001b[43m)\u001b[49m\n",
      "File \u001b[0;32m~/opt/anaconda3/lib/python3.9/site-packages/pymysql/connections.py:404\u001b[0m, in \u001b[0;36mConnection.close\u001b[0;34m(self)\u001b[0m\n\u001b[1;32m    395\u001b[0m \u001b[38;5;124;03m\"\"\"\u001b[39;00m\n\u001b[1;32m    396\u001b[0m \u001b[38;5;124;03mSend the quit message and close the socket.\u001b[39;00m\n\u001b[1;32m    397\u001b[0m \n\u001b[0;32m   (...)\u001b[0m\n\u001b[1;32m    401\u001b[0m \u001b[38;5;124;03m:raise Error: If the connection is already closed.\u001b[39;00m\n\u001b[1;32m    402\u001b[0m \u001b[38;5;124;03m\"\"\"\u001b[39;00m\n\u001b[1;32m    403\u001b[0m \u001b[38;5;28;01mif\u001b[39;00m \u001b[38;5;28mself\u001b[39m\u001b[38;5;241m.\u001b[39m_closed:\n\u001b[0;32m--> 404\u001b[0m     \u001b[38;5;28;01mraise\u001b[39;00m err\u001b[38;5;241m.\u001b[39mError(\u001b[38;5;124m\"\u001b[39m\u001b[38;5;124mAlready closed\u001b[39m\u001b[38;5;124m\"\u001b[39m)\n\u001b[1;32m    405\u001b[0m \u001b[38;5;28mself\u001b[39m\u001b[38;5;241m.\u001b[39m_closed \u001b[38;5;241m=\u001b[39m \u001b[38;5;28;01mTrue\u001b[39;00m\n\u001b[1;32m    406\u001b[0m \u001b[38;5;28;01mif\u001b[39;00m \u001b[38;5;28mself\u001b[39m\u001b[38;5;241m.\u001b[39m_sock \u001b[38;5;129;01mis\u001b[39;00m \u001b[38;5;28;01mNone\u001b[39;00m:\n",
      "\u001b[0;31mError\u001b[0m: Already closed"
     ]
    }
   ],
   "source": [
    "conn.close()"
   ]
  },
  {
   "cell_type": "markdown",
   "id": "7f8cf097",
   "metadata": {},
   "source": [
    "#### 3.2. Using Pandas read_sql() Method to Return a DataFrame"
   ]
  },
  {
   "cell_type": "code",
   "execution_count": null,
   "id": "12c6382b",
   "metadata": {},
   "outputs": [],
   "source": [
    "lbound = 15.00\n",
    "ubound = 20.00\n",
    "\n",
    "sql_query = \"\"\"\n",
    "    SELECT id AS product_id\n",
    "        , product_name\n",
    "        , list_price\n",
    "    FROM northwind.products\n",
    "    WHERE list_price BETWEEN {0} AND {1}\n",
    "    ORDER BY list_price DESC;\n",
    "\"\"\".format(lbound, ubound)\n",
    "\n",
    "print(sql_query)"
   ]
  },
  {
   "cell_type": "code",
   "execution_count": null,
   "id": "f506d10e",
   "metadata": {},
   "outputs": [],
   "source": [
    "configs = {\n",
    "    'user': user_id,\n",
    "    'password': pwd,\n",
    "    'host': host_name,\n",
    "    'database': db_name,\n",
    "    'auth_plugin': 'mysql_native_password',\n",
    "    'raise_on_warnings': True\n",
    "}\n",
    "\n",
    "conn = mysql.connector.connect(**configs)\n",
    "\n",
    "df = pd.read_sql(sql_query, conn)\n",
    "\n",
    "conn.close()\n",
    "df.tail()"
   ]
  },
  {
   "cell_type": "markdown",
   "id": "598cfad9",
   "metadata": {},
   "source": [
    "### 4.0. Using the SQLAlchemy Connection Library"
   ]
  },
  {
   "cell_type": "code",
   "execution_count": null,
   "id": "78569883",
   "metadata": {},
   "outputs": [],
   "source": [
    "conn_str = f\"mysql+pymysql://{user_id}:{pwd}@{host_name}/{db_name}\"\n",
    "\n",
    "sqlEngine = create_engine(conn_str, pool_recycle=3600)\n",
    "conn = sqlEngine.connect()\n",
    "\n",
    "df = pd.read_sql(sql_query, conn);\n",
    "\n",
    "conn.close()\n",
    "df.head()"
   ]
  },
  {
   "cell_type": "markdown",
   "id": "dbf956e5",
   "metadata": {},
   "source": [
    "### 5.0 Define Helper Functions to Encapsulate and Abstract the Implementation Details"
   ]
  },
  {
   "cell_type": "code",
   "execution_count": null,
   "id": "f5ae0f44",
   "metadata": {},
   "outputs": [],
   "source": [
    "sql_query = \"\"\"\n",
    "    SELECT id AS product_id\n",
    "        , product_name\n",
    "        , list_price\n",
    "    FROM northwind.products\n",
    "    ORDER BY list_price DESC;\n",
    "\"\"\""
   ]
  },
  {
   "cell_type": "markdown",
   "id": "fb6fe809",
   "metadata": {},
   "source": [
    "#### 5.1. Using Individual Connection Parameters"
   ]
  },
  {
   "cell_type": "code",
   "execution_count": null,
   "id": "bd8681b1",
   "metadata": {},
   "outputs": [],
   "source": [
    "def get_pymysql_dataframe(host, user, password, database_name, sql_query_string):\n",
    "    connection = pymysql.connect(host=host, user=user, password=password, database=database_name)\n",
    "    dframe = pd.read_sql(sql_query_string, connection)\n",
    "    connection.close()\n",
    "    \n",
    "    return dframe"
   ]
  },
  {
   "cell_type": "code",
   "execution_count": null,
   "id": "48ecb819",
   "metadata": {},
   "outputs": [],
   "source": [
    "df = get_pymysql_dataframe(host_name, user_id, pwd, db_name, sql_query)\n",
    "df.head()"
   ]
  },
  {
   "cell_type": "code",
   "execution_count": null,
   "id": "5424c1e6",
   "metadata": {},
   "outputs": [],
   "source": [
    "print(\"Shape: {}\\n\".format(df.shape))"
   ]
  },
  {
   "cell_type": "markdown",
   "id": "42e007c4",
   "metadata": {},
   "source": [
    "#### 5.1.1. Using SqlAlchemy"
   ]
  },
  {
   "cell_type": "code",
   "execution_count": null,
   "id": "f8752ce2",
   "metadata": {},
   "outputs": [],
   "source": [
    "def get_sqlalchemy_dataframe(user_id, pwd, host_name, db_name, sql_query):\n",
    "    conn_str = f\"mysql+pymysql://{user_id}:{pwd}@{host_name}/{db_name}\"\n",
    "    sqlEngine = create_engine(conn_str, pool_recycle=3600)\n",
    "    connection = sqlEngine.connect()\n",
    "    dframe = pd.read_sql(sql_query, connection);\n",
    "    connection.close()\n",
    "    \n",
    "    return dframe"
   ]
  },
  {
   "cell_type": "code",
   "execution_count": null,
   "id": "cd64dc50",
   "metadata": {},
   "outputs": [],
   "source": [
    "df = get_sqlalchemy_dataframe(user_id, pwd, host_name, db_name, sql_query)\n",
    "df.head()"
   ]
  },
  {
   "cell_type": "code",
   "execution_count": null,
   "id": "9702852b",
   "metadata": {},
   "outputs": [],
   "source": [
    "print(f\"Shape: {df.shape[0]} Observations x {df.shape[1]} Features\")"
   ]
  },
  {
   "cell_type": "markdown",
   "id": "992ff1b2",
   "metadata": {},
   "source": [
    "#### 5.2. Using a Configurations Dictionary"
   ]
  },
  {
   "cell_type": "code",
   "execution_count": null,
   "id": "171442bc",
   "metadata": {},
   "outputs": [],
   "source": [
    "def get_mysql_dataframe(sql_query_string, args):\n",
    "    connection = mysql.connector.connect(**args)\n",
    "    dframe = pd.read_sql(sql_query_string, connection)\n",
    "    connection.close()\n",
    "    \n",
    "    return dframe"
   ]
  },
  {
   "cell_type": "code",
   "execution_count": null,
   "id": "fb034467",
   "metadata": {},
   "outputs": [],
   "source": [
    "dframe = get_mysql_dataframe(sql_query, configs)\n",
    "dframe.tail()"
   ]
  },
  {
   "cell_type": "code",
   "execution_count": null,
   "id": "e4040753",
   "metadata": {},
   "outputs": [],
   "source": [
    "print(f\"Shape: {dframe.shape[0]} Observations x {dframe.shape[1]} Features\")"
   ]
  },
  {
   "cell_type": "markdown",
   "id": "9f5f8be6",
   "metadata": {},
   "source": [
    "### 6.0. Writing a Pandas DataFrame to a SQL Database"
   ]
  },
  {
   "cell_type": "code",
   "execution_count": null,
   "id": "324762b8",
   "metadata": {},
   "outputs": [],
   "source": [
    "def insert_sqlalchemy_dataframe(user_id, pwd, host_name, db_name, df, table_name):\n",
    "    conn_str = f\"mysql+pymysql://{user_id}:{pwd}@{host_name}/{db_name}\"\n",
    "    sqlEngine = create_engine(conn_str, pool_recycle=3600)\n",
    "    connection = sqlEngine.connect()\n",
    "    df.to_sql(table_name, con=connection, if_exists='replace') #, index_label='product_id');  'append'\n",
    "    connection.close()"
   ]
  },
  {
   "cell_type": "code",
   "execution_count": null,
   "id": "6d483cd3",
   "metadata": {},
   "outputs": [],
   "source": [
    "insert_sqlalchemy_dataframe(user_id, pwd, host_name, db_name, dframe, 'dim_products')"
   ]
  },
  {
   "cell_type": "code",
   "execution_count": null,
   "id": "a4451230",
   "metadata": {},
   "outputs": [],
   "source": [
    "df = get_sqlalchemy_dataframe(user_id, pwd, host_name, db_name, 'SELECT * FROM dim_products')\n",
    "df.head()"
   ]
  },
  {
   "cell_type": "markdown",
   "id": "2692f47b",
   "metadata": {},
   "source": [
    "### 7.0. Explore Pandas DataFrames' Capabilities\n",
    "#### 7.1. Display the Data Type of Each Feature"
   ]
  },
  {
   "cell_type": "code",
   "execution_count": null,
   "id": "6333c0ac",
   "metadata": {},
   "outputs": [],
   "source": [
    "sql_query = \"SELECT * FROM northwind.products;\"\n",
    "\n",
    "df = get_mysql_dataframe(sql_query, configs)"
   ]
  },
  {
   "cell_type": "code",
   "execution_count": null,
   "id": "38c56b5a",
   "metadata": {},
   "outputs": [],
   "source": [
    "df.dtypes"
   ]
  },
  {
   "cell_type": "markdown",
   "id": "b26c0cc6",
   "metadata": {},
   "source": [
    "#### 7.1. Inspect the Cardinality (number of unique values) of each Feature"
   ]
  },
  {
   "cell_type": "code",
   "execution_count": null,
   "id": "bd662302",
   "metadata": {},
   "outputs": [],
   "source": [
    "df.nunique()"
   ]
  },
  {
   "cell_type": "code",
   "execution_count": null,
   "id": "794553d2",
   "metadata": {
    "scrolled": true
   },
   "outputs": [],
   "source": [
    "unique_values = []\n",
    "\n",
    "for column in df.columns:\n",
    "    unique_values.append(df[column].unique())\n",
    "    \n",
    "data = list(zip(df.columns, unique_values))    \n",
    "    \n",
    "pd.DataFrame(data, columns=['Feature', 'Unique Values'])"
   ]
  },
  {
   "cell_type": "markdown",
   "id": "c25b45f8",
   "metadata": {},
   "source": [
    "#### 7.2. Display any Missing (NULL) values"
   ]
  },
  {
   "cell_type": "code",
   "execution_count": null,
   "id": "9a7e0611",
   "metadata": {},
   "outputs": [],
   "source": [
    "df.isnull().sum().sort_values(ascending=True)"
   ]
  },
  {
   "cell_type": "markdown",
   "id": "e25517e2",
   "metadata": {},
   "source": [
    "#### 7.3. Separate Numerical and Categorical Features"
   ]
  },
  {
   "cell_type": "code",
   "execution_count": null,
   "id": "4154b686",
   "metadata": {},
   "outputs": [],
   "source": [
    "numerical_cols = [col for col in df.columns if df.dtypes[col] != 'O']\n",
    "categorical_cols = [col for col in df.columns if col not in numerical_cols]\n",
    "\n",
    "print(numerical_cols)\n",
    "print(categorical_cols)"
   ]
  },
  {
   "cell_type": "markdown",
   "id": "1633d8aa",
   "metadata": {},
   "source": [
    "#### 7.4. Evaluate the Statistical Distribution of the Numerical Features"
   ]
  },
  {
   "cell_type": "code",
   "execution_count": null,
   "id": "a79b4e64",
   "metadata": {},
   "outputs": [],
   "source": [
    "df[numerical_cols].describe()"
   ]
  },
  {
   "cell_type": "markdown",
   "id": "6bb8d9c7",
   "metadata": {},
   "source": [
    "#### 7.5. Write the Contents of the DataFrame to a Comma-Separated Values (CSV) File"
   ]
  },
  {
   "cell_type": "code",
   "execution_count": null,
   "id": "9708903a",
   "metadata": {},
   "outputs": [],
   "source": [
    "data_dir = os.path.join(os.getcwd(), 'data')\n",
    "dest_file = os.path.join(data_dir, 'northwind_products.csv')\n",
    "\n",
    "df.to_csv(dest_file)"
   ]
  }
 ],
 "metadata": {
  "kernelspec": {
   "display_name": "Python 3 (ipykernel)",
   "language": "python",
   "name": "python3"
  },
  "language_info": {
   "codemirror_mode": {
    "name": "ipython",
    "version": 3
   },
   "file_extension": ".py",
   "mimetype": "text/x-python",
   "name": "python",
   "nbconvert_exporter": "python",
   "pygments_lexer": "ipython3",
   "version": "3.9.12"
  }
 },
 "nbformat": 4,
 "nbformat_minor": 5
}
