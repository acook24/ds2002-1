{
 "cells": [
  {
   "cell_type": "markdown",
   "metadata": {},
   "source": [
    "# Python Turotial: Work with CSV"
   ]
  },
  {
   "cell_type": "code",
   "execution_count": null,
   "metadata": {},
   "outputs": [],
   "source": []
  },
  {
   "cell_type": "markdown",
   "metadata": {},
   "source": [
    "# Reading "
   ]
  },
  {
   "cell_type": "markdown",
   "metadata": {},
   "source": [
    "### Read CSV using Python's inbuilt standard library csv"
   ]
  },
  {
   "cell_type": "code",
   "execution_count": 19,
   "metadata": {},
   "outputs": [],
   "source": [
    "import csv"
   ]
  },
  {
   "cell_type": "code",
   "execution_count": 20,
   "metadata": {},
   "outputs": [
    {
     "data": {
      "text/plain": [
       "_io.TextIOWrapper"
      ]
     },
     "execution_count": 20,
     "metadata": {},
     "output_type": "execute_result"
    }
   ],
   "source": [
    "file = open('Salary_Data.csv')\n",
    "type(file)"
   ]
  },
  {
   "cell_type": "code",
   "execution_count": 21,
   "metadata": {},
   "outputs": [],
   "source": [
    "csvreader = csv.reader(file)"
   ]
  },
  {
   "cell_type": "code",
   "execution_count": 22,
   "metadata": {},
   "outputs": [
    {
     "data": {
      "text/plain": [
       "['YearsExperience', 'Salary']"
      ]
     },
     "execution_count": 22,
     "metadata": {},
     "output_type": "execute_result"
    }
   ],
   "source": [
    "header = []\n",
    "header = next(csvreader)\n",
    "header"
   ]
  },
  {
   "cell_type": "code",
   "execution_count": 23,
   "metadata": {},
   "outputs": [
    {
     "data": {
      "text/plain": [
       "[['1.1', '39343.00'],\n",
       " ['1.3', '46205.00'],\n",
       " ['1.5', '37731.00'],\n",
       " ['2.0', '43525.00'],\n",
       " ['2.2', '39891.00'],\n",
       " ['2.9', '56642.00'],\n",
       " ['3.0', '60150.00'],\n",
       " ['3.2', '54445.00'],\n",
       " ['3.2', '64445.00'],\n",
       " ['3.7', '57189.00'],\n",
       " ['3.9', '63218.00'],\n",
       " ['4.0', '55794.00'],\n",
       " ['4.0', '56957.00'],\n",
       " ['4.1', '57081.00'],\n",
       " ['4.5', '61111.00'],\n",
       " ['4.9', '67938.00'],\n",
       " ['5.1', '66029.00'],\n",
       " ['5.3', '83088.00'],\n",
       " ['5.9', '81363.00'],\n",
       " ['6.0', '93940.00'],\n",
       " ['6.8', '91738.00'],\n",
       " ['7.1', '98273.00'],\n",
       " ['7.9', '101302.00'],\n",
       " ['8.2', '113812.00'],\n",
       " ['8.7', '109431.00'],\n",
       " ['9.0', '105582.00'],\n",
       " ['9.5', '116969.00'],\n",
       " ['9.6', '112635.00'],\n",
       " ['10.3', '122391.00'],\n",
       " ['10.5', '121872.00']]"
      ]
     },
     "execution_count": 23,
     "metadata": {},
     "output_type": "execute_result"
    }
   ],
   "source": [
    "rows = []\n",
    "for row in csvreader:\n",
    "    rows.append(row)\n",
    "rows"
   ]
  },
  {
   "cell_type": "code",
   "execution_count": 8,
   "metadata": {},
   "outputs": [],
   "source": [
    "file.close()"
   ]
  },
  {
   "cell_type": "markdown",
   "metadata": {},
   "source": [
    "#### complete code"
   ]
  },
  {
   "cell_type": "code",
   "execution_count": 26,
   "metadata": {},
   "outputs": [
    {
     "name": "stdout",
     "output_type": "stream",
     "text": [
      "['YearsExperience', 'Salary']\n"
     ]
    }
   ],
   "source": [
    "import csv\n",
    "file = open(\"Salary_Data.csv\")\n",
    "csvreader = csv.reader(file)\n",
    "header = next(csvreader)\n",
    "print(header)\n",
    "rows = []\n",
    "for row in csvreader:\n",
    "    rows.append(row)\n",
    "print(rows)\n",
    "file.close()"
   ]
  },
  {
   "cell_type": "markdown",
   "metadata": {},
   "source": [
    "### using with()"
   ]
  },
  {
   "cell_type": "code",
   "execution_count": 27,
   "metadata": {},
   "outputs": [
    {
     "name": "stdout",
     "output_type": "stream",
     "text": [
      "['YearsExperience', 'Salary']\n",
      "[['1.1', '39343.00'], ['1.3', '46205.00'], ['1.5', '37731.00'], ['2.0', '43525.00'], ['2.2', '39891.00'], ['2.9', '56642.00'], ['3.0', '60150.00'], ['3.2', '54445.00'], ['3.2', '64445.00'], ['3.7', '57189.00'], ['3.9', '63218.00'], ['4.0', '55794.00'], ['4.0', '56957.00'], ['4.1', '57081.00'], ['4.5', '61111.00'], ['4.9', '67938.00'], ['5.1', '66029.00'], ['5.3', '83088.00'], ['5.9', '81363.00'], ['6.0', '93940.00'], ['6.8', '91738.00'], ['7.1', '98273.00'], ['7.9', '101302.00'], ['8.2', '113812.00'], ['8.7', '109431.00'], ['9.0', '105582.00'], ['9.5', '116969.00'], ['9.6', '112635.00'], ['10.3', '122391.00'], ['10.5', '121872.00']]\n"
     ]
    }
   ],
   "source": [
    "import csv\n",
    "rows = []\n",
    "\n",
    "with open(\"Salary_Data.csv\", 'r') as file:\n",
    "    csvreader = csv.reader(file)\n",
    "    header = next(csvreader)\n",
    "    for row in csvreader:\n",
    "        rows.append(row)\n",
    "        \n",
    "print(header)\n",
    "print(rows)"
   ]
  },
  {
   "cell_type": "markdown",
   "metadata": {},
   "source": [
    "## using .readlines()"
   ]
  },
  {
   "cell_type": "code",
   "execution_count": 31,
   "metadata": {},
   "outputs": [
    {
     "name": "stdout",
     "output_type": "stream",
     "text": [
      "['YearsExperience,Salary\\n']\n",
      "['1.1,39343.00\\n', '1.3,46205.00\\n', '1.5,37731.00\\n', '2.0,43525.00\\n', '2.2,39891.00\\n', '2.9,56642.00\\n', '3.0,60150.00\\n', '3.2,54445.00\\n', '3.2,64445.00\\n', '3.7,57189.00\\n', '3.9,63218.00\\n', '4.0,55794.00\\n', '4.0,56957.00\\n', '4.1,57081.00\\n', '4.5,61111.00\\n', '4.9,67938.00\\n', '5.1,66029.00\\n', '5.3,83088.00\\n', '5.9,81363.00\\n', '6.0,93940.00\\n', '6.8,91738.00\\n', '7.1,98273.00\\n', '7.9,101302.00\\n', '8.2,113812.00\\n', '8.7,109431.00\\n', '9.0,105582.00\\n', '9.5,116969.00\\n', '9.6,112635.00\\n', '10.3,122391.00\\n', '10.5,121872.00\\n']\n"
     ]
    }
   ],
   "source": [
    "with open('Salary_Data.csv') as file:\n",
    "    content = file.readlines()\n",
    "header = content[:1]\n",
    "rows = content[1:]\n",
    "print(header)\n",
    "print(rows)"
   ]
  },
  {
   "cell_type": "markdown",
   "metadata": {},
   "source": [
    "## using pandas"
   ]
  },
  {
   "cell_type": "code",
   "execution_count": 34,
   "metadata": {},
   "outputs": [
    {
     "data": {
      "text/html": [
       "<div>\n",
       "<style scoped>\n",
       "    .dataframe tbody tr th:only-of-type {\n",
       "        vertical-align: middle;\n",
       "    }\n",
       "\n",
       "    .dataframe tbody tr th {\n",
       "        vertical-align: top;\n",
       "    }\n",
       "\n",
       "    .dataframe thead th {\n",
       "        text-align: right;\n",
       "    }\n",
       "</style>\n",
       "<table border=\"1\" class=\"dataframe\">\n",
       "  <thead>\n",
       "    <tr style=\"text-align: right;\">\n",
       "      <th></th>\n",
       "      <th>YearsExperience</th>\n",
       "      <th>Salary</th>\n",
       "    </tr>\n",
       "  </thead>\n",
       "  <tbody>\n",
       "    <tr>\n",
       "      <th>0</th>\n",
       "      <td>1.1</td>\n",
       "      <td>39343.0</td>\n",
       "    </tr>\n",
       "    <tr>\n",
       "      <th>1</th>\n",
       "      <td>1.3</td>\n",
       "      <td>46205.0</td>\n",
       "    </tr>\n",
       "    <tr>\n",
       "      <th>2</th>\n",
       "      <td>1.5</td>\n",
       "      <td>37731.0</td>\n",
       "    </tr>\n",
       "    <tr>\n",
       "      <th>3</th>\n",
       "      <td>2.0</td>\n",
       "      <td>43525.0</td>\n",
       "    </tr>\n",
       "    <tr>\n",
       "      <th>4</th>\n",
       "      <td>2.2</td>\n",
       "      <td>39891.0</td>\n",
       "    </tr>\n",
       "    <tr>\n",
       "      <th>5</th>\n",
       "      <td>2.9</td>\n",
       "      <td>56642.0</td>\n",
       "    </tr>\n",
       "    <tr>\n",
       "      <th>6</th>\n",
       "      <td>3.0</td>\n",
       "      <td>60150.0</td>\n",
       "    </tr>\n",
       "    <tr>\n",
       "      <th>7</th>\n",
       "      <td>3.2</td>\n",
       "      <td>54445.0</td>\n",
       "    </tr>\n",
       "    <tr>\n",
       "      <th>8</th>\n",
       "      <td>3.2</td>\n",
       "      <td>64445.0</td>\n",
       "    </tr>\n",
       "    <tr>\n",
       "      <th>9</th>\n",
       "      <td>3.7</td>\n",
       "      <td>57189.0</td>\n",
       "    </tr>\n",
       "    <tr>\n",
       "      <th>10</th>\n",
       "      <td>3.9</td>\n",
       "      <td>63218.0</td>\n",
       "    </tr>\n",
       "    <tr>\n",
       "      <th>11</th>\n",
       "      <td>4.0</td>\n",
       "      <td>55794.0</td>\n",
       "    </tr>\n",
       "    <tr>\n",
       "      <th>12</th>\n",
       "      <td>4.0</td>\n",
       "      <td>56957.0</td>\n",
       "    </tr>\n",
       "    <tr>\n",
       "      <th>13</th>\n",
       "      <td>4.1</td>\n",
       "      <td>57081.0</td>\n",
       "    </tr>\n",
       "    <tr>\n",
       "      <th>14</th>\n",
       "      <td>4.5</td>\n",
       "      <td>61111.0</td>\n",
       "    </tr>\n",
       "    <tr>\n",
       "      <th>15</th>\n",
       "      <td>4.9</td>\n",
       "      <td>67938.0</td>\n",
       "    </tr>\n",
       "    <tr>\n",
       "      <th>16</th>\n",
       "      <td>5.1</td>\n",
       "      <td>66029.0</td>\n",
       "    </tr>\n",
       "    <tr>\n",
       "      <th>17</th>\n",
       "      <td>5.3</td>\n",
       "      <td>83088.0</td>\n",
       "    </tr>\n",
       "    <tr>\n",
       "      <th>18</th>\n",
       "      <td>5.9</td>\n",
       "      <td>81363.0</td>\n",
       "    </tr>\n",
       "    <tr>\n",
       "      <th>19</th>\n",
       "      <td>6.0</td>\n",
       "      <td>93940.0</td>\n",
       "    </tr>\n",
       "    <tr>\n",
       "      <th>20</th>\n",
       "      <td>6.8</td>\n",
       "      <td>91738.0</td>\n",
       "    </tr>\n",
       "    <tr>\n",
       "      <th>21</th>\n",
       "      <td>7.1</td>\n",
       "      <td>98273.0</td>\n",
       "    </tr>\n",
       "    <tr>\n",
       "      <th>22</th>\n",
       "      <td>7.9</td>\n",
       "      <td>101302.0</td>\n",
       "    </tr>\n",
       "    <tr>\n",
       "      <th>23</th>\n",
       "      <td>8.2</td>\n",
       "      <td>113812.0</td>\n",
       "    </tr>\n",
       "    <tr>\n",
       "      <th>24</th>\n",
       "      <td>8.7</td>\n",
       "      <td>109431.0</td>\n",
       "    </tr>\n",
       "    <tr>\n",
       "      <th>25</th>\n",
       "      <td>9.0</td>\n",
       "      <td>105582.0</td>\n",
       "    </tr>\n",
       "    <tr>\n",
       "      <th>26</th>\n",
       "      <td>9.5</td>\n",
       "      <td>116969.0</td>\n",
       "    </tr>\n",
       "    <tr>\n",
       "      <th>27</th>\n",
       "      <td>9.6</td>\n",
       "      <td>112635.0</td>\n",
       "    </tr>\n",
       "    <tr>\n",
       "      <th>28</th>\n",
       "      <td>10.3</td>\n",
       "      <td>122391.0</td>\n",
       "    </tr>\n",
       "    <tr>\n",
       "      <th>29</th>\n",
       "      <td>10.5</td>\n",
       "      <td>121872.0</td>\n",
       "    </tr>\n",
       "  </tbody>\n",
       "</table>\n",
       "</div>"
      ],
      "text/plain": [
       "    YearsExperience    Salary\n",
       "0               1.1   39343.0\n",
       "1               1.3   46205.0\n",
       "2               1.5   37731.0\n",
       "3               2.0   43525.0\n",
       "4               2.2   39891.0\n",
       "5               2.9   56642.0\n",
       "6               3.0   60150.0\n",
       "7               3.2   54445.0\n",
       "8               3.2   64445.0\n",
       "9               3.7   57189.0\n",
       "10              3.9   63218.0\n",
       "11              4.0   55794.0\n",
       "12              4.0   56957.0\n",
       "13              4.1   57081.0\n",
       "14              4.5   61111.0\n",
       "15              4.9   67938.0\n",
       "16              5.1   66029.0\n",
       "17              5.3   83088.0\n",
       "18              5.9   81363.0\n",
       "19              6.0   93940.0\n",
       "20              6.8   91738.0\n",
       "21              7.1   98273.0\n",
       "22              7.9  101302.0\n",
       "23              8.2  113812.0\n",
       "24              8.7  109431.0\n",
       "25              9.0  105582.0\n",
       "26              9.5  116969.0\n",
       "27              9.6  112635.0\n",
       "28             10.3  122391.0\n",
       "29             10.5  121872.0"
      ]
     },
     "execution_count": 34,
     "metadata": {},
     "output_type": "execute_result"
    }
   ],
   "source": [
    "import pandas as pd\n",
    "data = pd.read_csv('Salary_Data.csv')\n",
    "data"
   ]
  },
  {
   "cell_type": "code",
   "execution_count": 35,
   "metadata": {},
   "outputs": [
    {
     "data": {
      "text/plain": [
       "Index(['YearsExperience', 'Salary'], dtype='object')"
      ]
     },
     "execution_count": 35,
     "metadata": {},
     "output_type": "execute_result"
    }
   ],
   "source": [
    "data.columns"
   ]
  },
  {
   "cell_type": "code",
   "execution_count": 15,
   "metadata": {},
   "outputs": [
    {
     "data": {
      "text/plain": [
       "0      39343.0\n",
       "1      46205.0\n",
       "2      37731.0\n",
       "3      43525.0\n",
       "4      39891.0\n",
       "5      56642.0\n",
       "6      60150.0\n",
       "7      54445.0\n",
       "8      64445.0\n",
       "9      57189.0\n",
       "10     63218.0\n",
       "11     55794.0\n",
       "12     56957.0\n",
       "13     57081.0\n",
       "14     61111.0\n",
       "15     67938.0\n",
       "16     66029.0\n",
       "17     83088.0\n",
       "18     81363.0\n",
       "19     93940.0\n",
       "20     91738.0\n",
       "21     98273.0\n",
       "22    101302.0\n",
       "23    113812.0\n",
       "24    109431.0\n",
       "25    105582.0\n",
       "26    116969.0\n",
       "27    112635.0\n",
       "28    122391.0\n",
       "29    121872.0\n",
       "Name: Salary, dtype: float64"
      ]
     },
     "execution_count": 15,
     "metadata": {},
     "output_type": "execute_result"
    }
   ],
   "source": [
    "data.Salary"
   ]
  },
  {
   "cell_type": "markdown",
   "metadata": {},
   "source": [
    "# Writing"
   ]
  },
  {
   "cell_type": "code",
   "execution_count": null,
   "metadata": {},
   "outputs": [],
   "source": []
  },
  {
   "cell_type": "markdown",
   "metadata": {},
   "source": [
    "### Writing to a CSV file using csv.writer"
   ]
  },
  {
   "cell_type": "code",
   "execution_count": 83,
   "metadata": {},
   "outputs": [],
   "source": [
    "import csv"
   ]
  },
  {
   "cell_type": "code",
   "execution_count": 36,
   "metadata": {},
   "outputs": [],
   "source": [
    "header = ['Name', 'M1 Score', 'M2 Score']\n",
    "data = [['Alex', 62, 80], ['Brad', 45, 56], ['Joey', 85, 98]]"
   ]
  },
  {
   "cell_type": "code",
   "execution_count": 37,
   "metadata": {},
   "outputs": [],
   "source": [
    "filename = 'Students_Data.csv'\n",
    "with open(filename, 'w', newline=\"\") as file:\n",
    "    csvwriter = csv.writer(file) # 2. create a csvwriter object\n",
    "    csvwriter.writerow(header) # 4. write the header\n",
    "    csvwriter.writerows(data) # 5. write the rest of the data"
   ]
  },
  {
   "cell_type": "markdown",
   "metadata": {},
   "source": [
    "### Writing to a CSV file using .write()"
   ]
  },
  {
   "cell_type": "code",
   "execution_count": 38,
   "metadata": {},
   "outputs": [],
   "source": [
    "header = ['Name', 'M1 Score', 'M2 Score']\n",
    "data = [['Alex', 62, 80], ['Brad', 45, 56], ['Joey', 85, 98]]\n",
    "\n",
    "filename = 'Student_scores.csv'\n",
    "with open(filename, 'w') as file:\n",
    "    \n",
    "    for header in header:\n",
    "        file.write(str(header)+', ')\n",
    "    file.write('\\n')\n",
    "    for row in data:\n",
    "        for x in row:\n",
    "            file.write(str(x)+', ')\n",
    "        file.write('\\n')"
   ]
  },
  {
   "cell_type": "markdown",
   "metadata": {},
   "source": [
    "### Write to a CSV using Pandas"
   ]
  },
  {
   "cell_type": "code",
   "execution_count": 39,
   "metadata": {},
   "outputs": [],
   "source": [
    "import pandas as pd\n",
    "header = ['Name', 'M1 Score', 'M2 Score']\n",
    "data = [['Alex', 62, 80], ['Brad', 45, 56], ['Joey', 85, 98]]\n",
    "data = pd.DataFrame(data, columns=header)\n",
    "data.to_csv('Stu_data.csv', index=False)"
   ]
  },
  {
   "cell_type": "code",
   "execution_count": 64,
   "metadata": {},
   "outputs": [
    {
     "name": "stdout",
     "output_type": "stream",
     "text": [
      "Date\n",
      "2021-06-23\n",
      "2021-06-24\n",
      "2021-06-25\n",
      "2021-06-28\n",
      "2021-06-29\n",
      "2021-06-30\n",
      "2021-07-01\n",
      "2021-07-02\n",
      "2021-07-06\n",
      "2021-07-07\n",
      "2021-07-08\n",
      "2021-07-09\n",
      "2021-07-12\n",
      "2021-07-13\n",
      "2021-07-14\n",
      "2021-07-15\n",
      "2021-07-16\n",
      "2021-07-19\n",
      "2021-07-20\n",
      "2021-07-21\n",
      "2021-07-22\n",
      "2021-07-23\n",
      "2021-07-26\n",
      "2021-07-27\n",
      "2021-07-28\n",
      "2021-07-29\n",
      "2021-07-30\n",
      "2021-08-02\n",
      "2021-08-03\n",
      "2021-08-04\n",
      "2021-08-05\n",
      "2021-08-06\n",
      "2021-08-09\n",
      "2021-08-10\n",
      "2021-08-11\n",
      "2021-08-12\n",
      "2021-08-13\n",
      "2021-08-16\n",
      "2021-08-17\n",
      "2021-08-18\n",
      "2021-08-19\n",
      "2021-08-20\n",
      "2021-08-23\n",
      "2021-08-24\n",
      "2021-08-25\n",
      "2021-08-26\n",
      "2021-08-27\n",
      "2021-08-30\n",
      "2021-08-31\n",
      "2021-09-01\n",
      "2021-09-02\n",
      "2021-09-03\n",
      "2021-09-07\n",
      "2021-09-08\n",
      "2021-09-09\n",
      "2021-09-10\n",
      "2021-09-13\n",
      "2021-09-14\n",
      "2021-09-15\n",
      "2021-09-16\n",
      "2021-09-17\n",
      "2021-09-20\n",
      "2021-09-21\n",
      "2021-09-22\n",
      "There are 65 rows in the file.\n"
     ]
    }
   ],
   "source": [
    "import csv\n",
    "import pandas as pd\n",
    "\n",
    "# open file\n",
    "with open('AMZN.csv') as csvDataFile:\n",
    "# read file as csv\n",
    "    csvReader = csv.reader(csvDataFile)\n",
    "\n",
    "# print row by row\n",
    "    rowcount=0\n",
    "    for row in csvReader:\n",
    "        rowcount+=1\n",
    "        print(row[0])\n",
    "    print(\"There are \" + str(rowcount) + \" rows in the file.\")\n",
    "    "
   ]
  },
  {
   "cell_type": "code",
   "execution_count": 65,
   "metadata": {},
   "outputs": [
    {
     "data": {
      "text/html": [
       "<div>\n",
       "<style scoped>\n",
       "    .dataframe tbody tr th:only-of-type {\n",
       "        vertical-align: middle;\n",
       "    }\n",
       "\n",
       "    .dataframe tbody tr th {\n",
       "        vertical-align: top;\n",
       "    }\n",
       "\n",
       "    .dataframe thead th {\n",
       "        text-align: right;\n",
       "    }\n",
       "</style>\n",
       "<table border=\"1\" class=\"dataframe\">\n",
       "  <thead>\n",
       "    <tr style=\"text-align: right;\">\n",
       "      <th></th>\n",
       "      <th>Date</th>\n",
       "      <th>Open</th>\n",
       "      <th>High</th>\n",
       "      <th>Low</th>\n",
       "      <th>Close</th>\n",
       "      <th>Adj Close</th>\n",
       "      <th>Volume</th>\n",
       "    </tr>\n",
       "  </thead>\n",
       "  <tbody>\n",
       "    <tr>\n",
       "      <th>0</th>\n",
       "      <td>2021-06-23</td>\n",
       "      <td>3505.000000</td>\n",
       "      <td>3521.000000</td>\n",
       "      <td>3483.199951</td>\n",
       "      <td>3503.820068</td>\n",
       "      <td>3503.820068</td>\n",
       "      <td>2813300</td>\n",
       "    </tr>\n",
       "    <tr>\n",
       "      <th>1</th>\n",
       "      <td>2021-06-24</td>\n",
       "      <td>3507.639893</td>\n",
       "      <td>3524.860107</td>\n",
       "      <td>3430.850098</td>\n",
       "      <td>3449.080078</td>\n",
       "      <td>3449.080078</td>\n",
       "      <td>3832000</td>\n",
       "    </tr>\n",
       "    <tr>\n",
       "      <th>2</th>\n",
       "      <td>2021-06-25</td>\n",
       "      <td>3464.000000</td>\n",
       "      <td>3464.820068</td>\n",
       "      <td>3394.179932</td>\n",
       "      <td>3401.459961</td>\n",
       "      <td>3401.459961</td>\n",
       "      <td>3941000</td>\n",
       "    </tr>\n",
       "    <tr>\n",
       "      <th>3</th>\n",
       "      <td>2021-06-28</td>\n",
       "      <td>3416.000000</td>\n",
       "      <td>3448.000000</td>\n",
       "      <td>3413.510010</td>\n",
       "      <td>3443.889893</td>\n",
       "      <td>3443.889893</td>\n",
       "      <td>2242800</td>\n",
       "    </tr>\n",
       "    <tr>\n",
       "      <th>4</th>\n",
       "      <td>2021-06-29</td>\n",
       "      <td>3438.820068</td>\n",
       "      <td>3456.030029</td>\n",
       "      <td>3423.030029</td>\n",
       "      <td>3448.139893</td>\n",
       "      <td>3448.139893</td>\n",
       "      <td>2098400</td>\n",
       "    </tr>\n",
       "    <tr>\n",
       "      <th>...</th>\n",
       "      <td>...</td>\n",
       "      <td>...</td>\n",
       "      <td>...</td>\n",
       "      <td>...</td>\n",
       "      <td>...</td>\n",
       "      <td>...</td>\n",
       "      <td>...</td>\n",
       "    </tr>\n",
       "    <tr>\n",
       "      <th>59</th>\n",
       "      <td>2021-09-16</td>\n",
       "      <td>3459.959961</td>\n",
       "      <td>3492.550049</td>\n",
       "      <td>3446.139893</td>\n",
       "      <td>3488.239990</td>\n",
       "      <td>3488.239990</td>\n",
       "      <td>2583600</td>\n",
       "    </tr>\n",
       "    <tr>\n",
       "      <th>60</th>\n",
       "      <td>2021-09-17</td>\n",
       "      <td>3488.409912</td>\n",
       "      <td>3497.409912</td>\n",
       "      <td>3452.129883</td>\n",
       "      <td>3462.520020</td>\n",
       "      <td>3462.520020</td>\n",
       "      <td>4614100</td>\n",
       "    </tr>\n",
       "    <tr>\n",
       "      <th>61</th>\n",
       "      <td>2021-09-20</td>\n",
       "      <td>3396.000000</td>\n",
       "      <td>3419.000000</td>\n",
       "      <td>3305.010010</td>\n",
       "      <td>3355.729980</td>\n",
       "      <td>3355.729980</td>\n",
       "      <td>4669100</td>\n",
       "    </tr>\n",
       "    <tr>\n",
       "      <th>62</th>\n",
       "      <td>2021-09-21</td>\n",
       "      <td>3375.000000</td>\n",
       "      <td>3379.699951</td>\n",
       "      <td>3332.389893</td>\n",
       "      <td>3343.629883</td>\n",
       "      <td>3343.629883</td>\n",
       "      <td>2780900</td>\n",
       "    </tr>\n",
       "    <tr>\n",
       "      <th>63</th>\n",
       "      <td>2021-09-22</td>\n",
       "      <td>3351.000000</td>\n",
       "      <td>3389.000000</td>\n",
       "      <td>3341.050049</td>\n",
       "      <td>3380.050049</td>\n",
       "      <td>3380.050049</td>\n",
       "      <td>2406200</td>\n",
       "    </tr>\n",
       "  </tbody>\n",
       "</table>\n",
       "<p>64 rows × 7 columns</p>\n",
       "</div>"
      ],
      "text/plain": [
       "          Date         Open         High          Low        Close  \\\n",
       "0   2021-06-23  3505.000000  3521.000000  3483.199951  3503.820068   \n",
       "1   2021-06-24  3507.639893  3524.860107  3430.850098  3449.080078   \n",
       "2   2021-06-25  3464.000000  3464.820068  3394.179932  3401.459961   \n",
       "3   2021-06-28  3416.000000  3448.000000  3413.510010  3443.889893   \n",
       "4   2021-06-29  3438.820068  3456.030029  3423.030029  3448.139893   \n",
       "..         ...          ...          ...          ...          ...   \n",
       "59  2021-09-16  3459.959961  3492.550049  3446.139893  3488.239990   \n",
       "60  2021-09-17  3488.409912  3497.409912  3452.129883  3462.520020   \n",
       "61  2021-09-20  3396.000000  3419.000000  3305.010010  3355.729980   \n",
       "62  2021-09-21  3375.000000  3379.699951  3332.389893  3343.629883   \n",
       "63  2021-09-22  3351.000000  3389.000000  3341.050049  3380.050049   \n",
       "\n",
       "      Adj Close   Volume  \n",
       "0   3503.820068  2813300  \n",
       "1   3449.080078  3832000  \n",
       "2   3401.459961  3941000  \n",
       "3   3443.889893  2242800  \n",
       "4   3448.139893  2098400  \n",
       "..          ...      ...  \n",
       "59  3488.239990  2583600  \n",
       "60  3462.520020  4614100  \n",
       "61  3355.729980  4669100  \n",
       "62  3343.629883  2780900  \n",
       "63  3380.050049  2406200  \n",
       "\n",
       "[64 rows x 7 columns]"
      ]
     },
     "execution_count": 65,
     "metadata": {},
     "output_type": "execute_result"
    }
   ],
   "source": [
    "import pandas as pd\n",
    "data = pd.read_csv('AMZN.csv')\n",
    "data"
   ]
  },
  {
   "cell_type": "code",
   "execution_count": 67,
   "metadata": {},
   "outputs": [
    {
     "name": "stdout",
     "output_type": "stream",
     "text": [
      "5    3441.060059\n",
      "Name: Open, dtype: float64\n",
      "         Date         Open         High     Low        Close    Adj Close  \\\n",
      "5  2021-06-30  3441.060059  3471.600098  3435.0  3440.159912  3440.159912   \n",
      "\n",
      "    Volume  \n",
      "5  2404000  \n"
     ]
    }
   ],
   "source": [
    "import pandas as pd\n",
    "data = pd.read_csv('AMZN.csv')\n",
    "#Select 'open' from amzn where date =='2021-06-30'\n",
    "print(data['Open'].loc[data['Date'] == '2021-06-30'])\n",
    "\n",
    "#Select * from amzn where date =='2021-06-30'\n",
    "print(data.loc[data['Date'] == '2021-06-30'])\n"
   ]
  },
  {
   "cell_type": "code",
   "execution_count": null,
   "metadata": {},
   "outputs": [],
   "source": []
  }
 ],
 "metadata": {
  "kernelspec": {
   "display_name": "Python 3 (ipykernel)",
   "language": "python",
   "name": "python3"
  },
  "language_info": {
   "codemirror_mode": {
    "name": "ipython",
    "version": 3
   },
   "file_extension": ".py",
   "mimetype": "text/x-python",
   "name": "python",
   "nbconvert_exporter": "python",
   "pygments_lexer": "ipython3",
   "version": "3.9.7"
  }
 },
 "nbformat": 4,
 "nbformat_minor": 4
}
